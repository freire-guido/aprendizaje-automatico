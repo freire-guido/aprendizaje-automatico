{
 "cells": [
  {
   "cell_type": "code",
   "execution_count": 1,
   "metadata": {},
   "outputs": [],
   "source": [
    "import pandas as pd\n",
    "import numpy as np"
   ]
  },
  {
   "cell_type": "markdown",
   "metadata": {},
   "source": [
    "# Ejercicio 1\n",
    "\n",
    "Pensamos en usar 20% de test para tener mas confianza en los resultados de nuestros modelos. 10% nos parecio muy bajo (50 datos).\n",
    "\n",
    "Vamos a usar K-Fold para validar el modelo con el fine-tuning."
   ]
  },
  {
   "cell_type": "markdown",
   "metadata": {},
   "source": [
    "(?) usar stratified en test"
   ]
  },
  {
   "cell_type": "code",
   "execution_count": 2,
   "metadata": {},
   "outputs": [],
   "source": [
    "datos = pd.read_csv(\"datos/data.csv\")\n",
    "datos = datos.sample(frac=1).reset_index(drop=True) # Permuto las filas al azar x si estaban ordenadas\n",
    "\n",
    "y = datos['target']\n",
    "X = datos.iloc[:, :-1]"
   ]
  },
  {
   "cell_type": "code",
   "execution_count": 3,
   "metadata": {},
   "outputs": [],
   "source": [
    "def desarrollo_evaluacion(X, y, prop_train):\n",
    "    return X[:int(len(X)*prop_train)], y[:int(len(X)*prop_train)], X[int(len(X)*prop_train):], y[int(len(X)*prop_train):]"
   ]
  },
  {
   "cell_type": "code",
   "execution_count": 4,
   "metadata": {},
   "outputs": [],
   "source": [
    "X_train, y_train, X_test, y_test = desarrollo_evaluacion(X, y, 0.8)"
   ]
  },
  {
   "cell_type": "markdown",
   "metadata": {},
   "source": [
    "# Ejercicio 2"
   ]
  },
  {
   "cell_type": "code",
   "execution_count": 5,
   "metadata": {},
   "outputs": [],
   "source": [
    "from sklearn import tree, model_selection\n",
    "from sklearn import metrics"
   ]
  },
  {
   "cell_type": "code",
   "execution_count": 6,
   "metadata": {},
   "outputs": [
    {
     "data": {
      "text/html": [
       "<style>#sk-container-id-1 {\n",
       "  /* Definition of color scheme common for light and dark mode */\n",
       "  --sklearn-color-text: black;\n",
       "  --sklearn-color-line: gray;\n",
       "  /* Definition of color scheme for unfitted estimators */\n",
       "  --sklearn-color-unfitted-level-0: #fff5e6;\n",
       "  --sklearn-color-unfitted-level-1: #f6e4d2;\n",
       "  --sklearn-color-unfitted-level-2: #ffe0b3;\n",
       "  --sklearn-color-unfitted-level-3: chocolate;\n",
       "  /* Definition of color scheme for fitted estimators */\n",
       "  --sklearn-color-fitted-level-0: #f0f8ff;\n",
       "  --sklearn-color-fitted-level-1: #d4ebff;\n",
       "  --sklearn-color-fitted-level-2: #b3dbfd;\n",
       "  --sklearn-color-fitted-level-3: cornflowerblue;\n",
       "\n",
       "  /* Specific color for light theme */\n",
       "  --sklearn-color-text-on-default-background: var(--sg-text-color, var(--theme-code-foreground, var(--jp-content-font-color1, black)));\n",
       "  --sklearn-color-background: var(--sg-background-color, var(--theme-background, var(--jp-layout-color0, white)));\n",
       "  --sklearn-color-border-box: var(--sg-text-color, var(--theme-code-foreground, var(--jp-content-font-color1, black)));\n",
       "  --sklearn-color-icon: #696969;\n",
       "\n",
       "  @media (prefers-color-scheme: dark) {\n",
       "    /* Redefinition of color scheme for dark theme */\n",
       "    --sklearn-color-text-on-default-background: var(--sg-text-color, var(--theme-code-foreground, var(--jp-content-font-color1, white)));\n",
       "    --sklearn-color-background: var(--sg-background-color, var(--theme-background, var(--jp-layout-color0, #111)));\n",
       "    --sklearn-color-border-box: var(--sg-text-color, var(--theme-code-foreground, var(--jp-content-font-color1, white)));\n",
       "    --sklearn-color-icon: #878787;\n",
       "  }\n",
       "}\n",
       "\n",
       "#sk-container-id-1 {\n",
       "  color: var(--sklearn-color-text);\n",
       "}\n",
       "\n",
       "#sk-container-id-1 pre {\n",
       "  padding: 0;\n",
       "}\n",
       "\n",
       "#sk-container-id-1 input.sk-hidden--visually {\n",
       "  border: 0;\n",
       "  clip: rect(1px 1px 1px 1px);\n",
       "  clip: rect(1px, 1px, 1px, 1px);\n",
       "  height: 1px;\n",
       "  margin: -1px;\n",
       "  overflow: hidden;\n",
       "  padding: 0;\n",
       "  position: absolute;\n",
       "  width: 1px;\n",
       "}\n",
       "\n",
       "#sk-container-id-1 div.sk-dashed-wrapped {\n",
       "  border: 1px dashed var(--sklearn-color-line);\n",
       "  margin: 0 0.4em 0.5em 0.4em;\n",
       "  box-sizing: border-box;\n",
       "  padding-bottom: 0.4em;\n",
       "  background-color: var(--sklearn-color-background);\n",
       "}\n",
       "\n",
       "#sk-container-id-1 div.sk-container {\n",
       "  /* jupyter's `normalize.less` sets `[hidden] { display: none; }`\n",
       "     but bootstrap.min.css set `[hidden] { display: none !important; }`\n",
       "     so we also need the `!important` here to be able to override the\n",
       "     default hidden behavior on the sphinx rendered scikit-learn.org.\n",
       "     See: https://github.com/scikit-learn/scikit-learn/issues/21755 */\n",
       "  display: inline-block !important;\n",
       "  position: relative;\n",
       "}\n",
       "\n",
       "#sk-container-id-1 div.sk-text-repr-fallback {\n",
       "  display: none;\n",
       "}\n",
       "\n",
       "div.sk-parallel-item,\n",
       "div.sk-serial,\n",
       "div.sk-item {\n",
       "  /* draw centered vertical line to link estimators */\n",
       "  background-image: linear-gradient(var(--sklearn-color-text-on-default-background), var(--sklearn-color-text-on-default-background));\n",
       "  background-size: 2px 100%;\n",
       "  background-repeat: no-repeat;\n",
       "  background-position: center center;\n",
       "}\n",
       "\n",
       "/* Parallel-specific style estimator block */\n",
       "\n",
       "#sk-container-id-1 div.sk-parallel-item::after {\n",
       "  content: \"\";\n",
       "  width: 100%;\n",
       "  border-bottom: 2px solid var(--sklearn-color-text-on-default-background);\n",
       "  flex-grow: 1;\n",
       "}\n",
       "\n",
       "#sk-container-id-1 div.sk-parallel {\n",
       "  display: flex;\n",
       "  align-items: stretch;\n",
       "  justify-content: center;\n",
       "  background-color: var(--sklearn-color-background);\n",
       "  position: relative;\n",
       "}\n",
       "\n",
       "#sk-container-id-1 div.sk-parallel-item {\n",
       "  display: flex;\n",
       "  flex-direction: column;\n",
       "}\n",
       "\n",
       "#sk-container-id-1 div.sk-parallel-item:first-child::after {\n",
       "  align-self: flex-end;\n",
       "  width: 50%;\n",
       "}\n",
       "\n",
       "#sk-container-id-1 div.sk-parallel-item:last-child::after {\n",
       "  align-self: flex-start;\n",
       "  width: 50%;\n",
       "}\n",
       "\n",
       "#sk-container-id-1 div.sk-parallel-item:only-child::after {\n",
       "  width: 0;\n",
       "}\n",
       "\n",
       "/* Serial-specific style estimator block */\n",
       "\n",
       "#sk-container-id-1 div.sk-serial {\n",
       "  display: flex;\n",
       "  flex-direction: column;\n",
       "  align-items: center;\n",
       "  background-color: var(--sklearn-color-background);\n",
       "  padding-right: 1em;\n",
       "  padding-left: 1em;\n",
       "}\n",
       "\n",
       "\n",
       "/* Toggleable style: style used for estimator/Pipeline/ColumnTransformer box that is\n",
       "clickable and can be expanded/collapsed.\n",
       "- Pipeline and ColumnTransformer use this feature and define the default style\n",
       "- Estimators will overwrite some part of the style using the `sk-estimator` class\n",
       "*/\n",
       "\n",
       "/* Pipeline and ColumnTransformer style (default) */\n",
       "\n",
       "#sk-container-id-1 div.sk-toggleable {\n",
       "  /* Default theme specific background. It is overwritten whether we have a\n",
       "  specific estimator or a Pipeline/ColumnTransformer */\n",
       "  background-color: var(--sklearn-color-background);\n",
       "}\n",
       "\n",
       "/* Toggleable label */\n",
       "#sk-container-id-1 label.sk-toggleable__label {\n",
       "  cursor: pointer;\n",
       "  display: block;\n",
       "  width: 100%;\n",
       "  margin-bottom: 0;\n",
       "  padding: 0.5em;\n",
       "  box-sizing: border-box;\n",
       "  text-align: center;\n",
       "}\n",
       "\n",
       "#sk-container-id-1 label.sk-toggleable__label-arrow:before {\n",
       "  /* Arrow on the left of the label */\n",
       "  content: \"▸\";\n",
       "  float: left;\n",
       "  margin-right: 0.25em;\n",
       "  color: var(--sklearn-color-icon);\n",
       "}\n",
       "\n",
       "#sk-container-id-1 label.sk-toggleable__label-arrow:hover:before {\n",
       "  color: var(--sklearn-color-text);\n",
       "}\n",
       "\n",
       "/* Toggleable content - dropdown */\n",
       "\n",
       "#sk-container-id-1 div.sk-toggleable__content {\n",
       "  max-height: 0;\n",
       "  max-width: 0;\n",
       "  overflow: hidden;\n",
       "  text-align: left;\n",
       "  /* unfitted */\n",
       "  background-color: var(--sklearn-color-unfitted-level-0);\n",
       "}\n",
       "\n",
       "#sk-container-id-1 div.sk-toggleable__content.fitted {\n",
       "  /* fitted */\n",
       "  background-color: var(--sklearn-color-fitted-level-0);\n",
       "}\n",
       "\n",
       "#sk-container-id-1 div.sk-toggleable__content pre {\n",
       "  margin: 0.2em;\n",
       "  border-radius: 0.25em;\n",
       "  color: var(--sklearn-color-text);\n",
       "  /* unfitted */\n",
       "  background-color: var(--sklearn-color-unfitted-level-0);\n",
       "}\n",
       "\n",
       "#sk-container-id-1 div.sk-toggleable__content.fitted pre {\n",
       "  /* unfitted */\n",
       "  background-color: var(--sklearn-color-fitted-level-0);\n",
       "}\n",
       "\n",
       "#sk-container-id-1 input.sk-toggleable__control:checked~div.sk-toggleable__content {\n",
       "  /* Expand drop-down */\n",
       "  max-height: 200px;\n",
       "  max-width: 100%;\n",
       "  overflow: auto;\n",
       "}\n",
       "\n",
       "#sk-container-id-1 input.sk-toggleable__control:checked~label.sk-toggleable__label-arrow:before {\n",
       "  content: \"▾\";\n",
       "}\n",
       "\n",
       "/* Pipeline/ColumnTransformer-specific style */\n",
       "\n",
       "#sk-container-id-1 div.sk-label input.sk-toggleable__control:checked~label.sk-toggleable__label {\n",
       "  color: var(--sklearn-color-text);\n",
       "  background-color: var(--sklearn-color-unfitted-level-2);\n",
       "}\n",
       "\n",
       "#sk-container-id-1 div.sk-label.fitted input.sk-toggleable__control:checked~label.sk-toggleable__label {\n",
       "  background-color: var(--sklearn-color-fitted-level-2);\n",
       "}\n",
       "\n",
       "/* Estimator-specific style */\n",
       "\n",
       "/* Colorize estimator box */\n",
       "#sk-container-id-1 div.sk-estimator input.sk-toggleable__control:checked~label.sk-toggleable__label {\n",
       "  /* unfitted */\n",
       "  background-color: var(--sklearn-color-unfitted-level-2);\n",
       "}\n",
       "\n",
       "#sk-container-id-1 div.sk-estimator.fitted input.sk-toggleable__control:checked~label.sk-toggleable__label {\n",
       "  /* fitted */\n",
       "  background-color: var(--sklearn-color-fitted-level-2);\n",
       "}\n",
       "\n",
       "#sk-container-id-1 div.sk-label label.sk-toggleable__label,\n",
       "#sk-container-id-1 div.sk-label label {\n",
       "  /* The background is the default theme color */\n",
       "  color: var(--sklearn-color-text-on-default-background);\n",
       "}\n",
       "\n",
       "/* On hover, darken the color of the background */\n",
       "#sk-container-id-1 div.sk-label:hover label.sk-toggleable__label {\n",
       "  color: var(--sklearn-color-text);\n",
       "  background-color: var(--sklearn-color-unfitted-level-2);\n",
       "}\n",
       "\n",
       "/* Label box, darken color on hover, fitted */\n",
       "#sk-container-id-1 div.sk-label.fitted:hover label.sk-toggleable__label.fitted {\n",
       "  color: var(--sklearn-color-text);\n",
       "  background-color: var(--sklearn-color-fitted-level-2);\n",
       "}\n",
       "\n",
       "/* Estimator label */\n",
       "\n",
       "#sk-container-id-1 div.sk-label label {\n",
       "  font-family: monospace;\n",
       "  font-weight: bold;\n",
       "  display: inline-block;\n",
       "  line-height: 1.2em;\n",
       "}\n",
       "\n",
       "#sk-container-id-1 div.sk-label-container {\n",
       "  text-align: center;\n",
       "}\n",
       "\n",
       "/* Estimator-specific */\n",
       "#sk-container-id-1 div.sk-estimator {\n",
       "  font-family: monospace;\n",
       "  border: 1px dotted var(--sklearn-color-border-box);\n",
       "  border-radius: 0.25em;\n",
       "  box-sizing: border-box;\n",
       "  margin-bottom: 0.5em;\n",
       "  /* unfitted */\n",
       "  background-color: var(--sklearn-color-unfitted-level-0);\n",
       "}\n",
       "\n",
       "#sk-container-id-1 div.sk-estimator.fitted {\n",
       "  /* fitted */\n",
       "  background-color: var(--sklearn-color-fitted-level-0);\n",
       "}\n",
       "\n",
       "/* on hover */\n",
       "#sk-container-id-1 div.sk-estimator:hover {\n",
       "  /* unfitted */\n",
       "  background-color: var(--sklearn-color-unfitted-level-2);\n",
       "}\n",
       "\n",
       "#sk-container-id-1 div.sk-estimator.fitted:hover {\n",
       "  /* fitted */\n",
       "  background-color: var(--sklearn-color-fitted-level-2);\n",
       "}\n",
       "\n",
       "/* Specification for estimator info (e.g. \"i\" and \"?\") */\n",
       "\n",
       "/* Common style for \"i\" and \"?\" */\n",
       "\n",
       ".sk-estimator-doc-link,\n",
       "a:link.sk-estimator-doc-link,\n",
       "a:visited.sk-estimator-doc-link {\n",
       "  float: right;\n",
       "  font-size: smaller;\n",
       "  line-height: 1em;\n",
       "  font-family: monospace;\n",
       "  background-color: var(--sklearn-color-background);\n",
       "  border-radius: 1em;\n",
       "  height: 1em;\n",
       "  width: 1em;\n",
       "  text-decoration: none !important;\n",
       "  margin-left: 1ex;\n",
       "  /* unfitted */\n",
       "  border: var(--sklearn-color-unfitted-level-1) 1pt solid;\n",
       "  color: var(--sklearn-color-unfitted-level-1);\n",
       "}\n",
       "\n",
       ".sk-estimator-doc-link.fitted,\n",
       "a:link.sk-estimator-doc-link.fitted,\n",
       "a:visited.sk-estimator-doc-link.fitted {\n",
       "  /* fitted */\n",
       "  border: var(--sklearn-color-fitted-level-1) 1pt solid;\n",
       "  color: var(--sklearn-color-fitted-level-1);\n",
       "}\n",
       "\n",
       "/* On hover */\n",
       "div.sk-estimator:hover .sk-estimator-doc-link:hover,\n",
       ".sk-estimator-doc-link:hover,\n",
       "div.sk-label-container:hover .sk-estimator-doc-link:hover,\n",
       ".sk-estimator-doc-link:hover {\n",
       "  /* unfitted */\n",
       "  background-color: var(--sklearn-color-unfitted-level-3);\n",
       "  color: var(--sklearn-color-background);\n",
       "  text-decoration: none;\n",
       "}\n",
       "\n",
       "div.sk-estimator.fitted:hover .sk-estimator-doc-link.fitted:hover,\n",
       ".sk-estimator-doc-link.fitted:hover,\n",
       "div.sk-label-container:hover .sk-estimator-doc-link.fitted:hover,\n",
       ".sk-estimator-doc-link.fitted:hover {\n",
       "  /* fitted */\n",
       "  background-color: var(--sklearn-color-fitted-level-3);\n",
       "  color: var(--sklearn-color-background);\n",
       "  text-decoration: none;\n",
       "}\n",
       "\n",
       "/* Span, style for the box shown on hovering the info icon */\n",
       ".sk-estimator-doc-link span {\n",
       "  display: none;\n",
       "  z-index: 9999;\n",
       "  position: relative;\n",
       "  font-weight: normal;\n",
       "  right: .2ex;\n",
       "  padding: .5ex;\n",
       "  margin: .5ex;\n",
       "  width: min-content;\n",
       "  min-width: 20ex;\n",
       "  max-width: 50ex;\n",
       "  color: var(--sklearn-color-text);\n",
       "  box-shadow: 2pt 2pt 4pt #999;\n",
       "  /* unfitted */\n",
       "  background: var(--sklearn-color-unfitted-level-0);\n",
       "  border: .5pt solid var(--sklearn-color-unfitted-level-3);\n",
       "}\n",
       "\n",
       ".sk-estimator-doc-link.fitted span {\n",
       "  /* fitted */\n",
       "  background: var(--sklearn-color-fitted-level-0);\n",
       "  border: var(--sklearn-color-fitted-level-3);\n",
       "}\n",
       "\n",
       ".sk-estimator-doc-link:hover span {\n",
       "  display: block;\n",
       "}\n",
       "\n",
       "/* \"?\"-specific style due to the `<a>` HTML tag */\n",
       "\n",
       "#sk-container-id-1 a.estimator_doc_link {\n",
       "  float: right;\n",
       "  font-size: 1rem;\n",
       "  line-height: 1em;\n",
       "  font-family: monospace;\n",
       "  background-color: var(--sklearn-color-background);\n",
       "  border-radius: 1rem;\n",
       "  height: 1rem;\n",
       "  width: 1rem;\n",
       "  text-decoration: none;\n",
       "  /* unfitted */\n",
       "  color: var(--sklearn-color-unfitted-level-1);\n",
       "  border: var(--sklearn-color-unfitted-level-1) 1pt solid;\n",
       "}\n",
       "\n",
       "#sk-container-id-1 a.estimator_doc_link.fitted {\n",
       "  /* fitted */\n",
       "  border: var(--sklearn-color-fitted-level-1) 1pt solid;\n",
       "  color: var(--sklearn-color-fitted-level-1);\n",
       "}\n",
       "\n",
       "/* On hover */\n",
       "#sk-container-id-1 a.estimator_doc_link:hover {\n",
       "  /* unfitted */\n",
       "  background-color: var(--sklearn-color-unfitted-level-3);\n",
       "  color: var(--sklearn-color-background);\n",
       "  text-decoration: none;\n",
       "}\n",
       "\n",
       "#sk-container-id-1 a.estimator_doc_link.fitted:hover {\n",
       "  /* fitted */\n",
       "  background-color: var(--sklearn-color-fitted-level-3);\n",
       "}\n",
       "</style><div id=\"sk-container-id-1\" class=\"sk-top-container\"><div class=\"sk-text-repr-fallback\"><pre>DecisionTreeClassifier(max_depth=3)</pre><b>In a Jupyter environment, please rerun this cell to show the HTML representation or trust the notebook. <br />On GitHub, the HTML representation is unable to render, please try loading this page with nbviewer.org.</b></div><div class=\"sk-container\" hidden><div class=\"sk-item\"><div class=\"sk-estimator fitted sk-toggleable\"><input class=\"sk-toggleable__control sk-hidden--visually\" id=\"sk-estimator-id-1\" type=\"checkbox\" checked><label for=\"sk-estimator-id-1\" class=\"sk-toggleable__label fitted sk-toggleable__label-arrow fitted\">&nbsp;&nbsp;DecisionTreeClassifier<a class=\"sk-estimator-doc-link fitted\" rel=\"noreferrer\" target=\"_blank\" href=\"https://scikit-learn.org/1.4/modules/generated/sklearn.tree.DecisionTreeClassifier.html\">?<span>Documentation for DecisionTreeClassifier</span></a><span class=\"sk-estimator-doc-link fitted\">i<span>Fitted</span></span></label><div class=\"sk-toggleable__content fitted\"><pre>DecisionTreeClassifier(max_depth=3)</pre></div> </div></div></div></div>"
      ],
      "text/plain": [
       "DecisionTreeClassifier(max_depth=3)"
      ]
     },
     "execution_count": 6,
     "metadata": {},
     "output_type": "execute_result"
    }
   ],
   "source": [
    "arbol = tree.DecisionTreeClassifier(max_depth=3)\n",
    "arbol.fit(X_train, y_train)"
   ]
  },
  {
   "cell_type": "markdown",
   "metadata": {},
   "source": [
    "(!) average_precision es ~AUPRC"
   ]
  },
  {
   "cell_type": "code",
   "execution_count": 7,
   "metadata": {},
   "outputs": [],
   "source": [
    "metricas = ['accuracy', 'roc_auc', 'average_precision']\n",
    "scores = model_selection.cross_validate(arbol, X_train, y_train, cv = 5, scoring = metricas, return_train_score=True, return_estimator=True, return_indices=True)"
   ]
  },
  {
   "cell_type": "code",
   "execution_count": 8,
   "metadata": {},
   "outputs": [
    {
     "data": {
      "text/plain": [
       "{'fit_time': array([0.02212834, 0.02018666, 0.01843214, 0.0179553 , 0.01763773]),\n",
       " 'score_time': array([0.00828433, 0.0057807 , 0.00582671, 0.00555587, 0.00427771]),\n",
       " 'estimator': [DecisionTreeClassifier(max_depth=3),\n",
       "  DecisionTreeClassifier(max_depth=3),\n",
       "  DecisionTreeClassifier(max_depth=3),\n",
       "  DecisionTreeClassifier(max_depth=3),\n",
       "  DecisionTreeClassifier(max_depth=3)],\n",
       " 'indices': {'train': (array([ 76,  80,  82,  83,  84,  85,  86,  87,  88,  89,  90,  91,  92,\n",
       "           93,  94,  95,  96,  97,  98,  99, 100, 101, 102, 103, 104, 105,\n",
       "          106, 107, 108, 109, 110, 111, 112, 113, 114, 115, 116, 117, 118,\n",
       "          119, 120, 121, 122, 123, 124, 125, 126, 127, 128, 129, 130, 131,\n",
       "          132, 133, 134, 135, 136, 137, 138, 139, 140, 141, 142, 143, 144,\n",
       "          145, 146, 147, 148, 149, 150, 151, 152, 153, 154, 155, 156, 157,\n",
       "          158, 159, 160, 161, 162, 163, 164, 165, 166, 167, 168, 169, 170,\n",
       "          171, 172, 173, 174, 175, 176, 177, 178, 179, 180, 181, 182, 183,\n",
       "          184, 185, 186, 187, 188, 189, 190, 191, 192, 193, 194, 195, 196,\n",
       "          197, 198, 199, 200, 201, 202, 203, 204, 205, 206, 207, 208, 209,\n",
       "          210, 211, 212, 213, 214, 215, 216, 217, 218, 219, 220, 221, 222,\n",
       "          223, 224, 225, 226, 227, 228, 229, 230, 231, 232, 233, 234, 235,\n",
       "          236, 237, 238, 239, 240, 241, 242, 243, 244, 245, 246, 247, 248,\n",
       "          249, 250, 251, 252, 253, 254, 255, 256, 257, 258, 259, 260, 261,\n",
       "          262, 263, 264, 265, 266, 267, 268, 269, 270, 271, 272, 273, 274,\n",
       "          275, 276, 277, 278, 279, 280, 281, 282, 283, 284, 285, 286, 287,\n",
       "          288, 289, 290, 291, 292, 293, 294, 295, 296, 297, 298, 299, 300,\n",
       "          301, 302, 303, 304, 305, 306, 307, 308, 309, 310, 311, 312, 313,\n",
       "          314, 315, 316, 317, 318, 319, 320, 321, 322, 323, 324, 325, 326,\n",
       "          327, 328, 329, 330, 331, 332, 333, 334, 335, 336, 337, 338, 339,\n",
       "          340, 341, 342, 343, 344, 345, 346, 347, 348, 349, 350, 351, 352,\n",
       "          353, 354, 355, 356, 357, 358, 359, 360, 361, 362, 363, 364, 365,\n",
       "          366, 367, 368, 369, 370, 371, 372, 373, 374, 375, 376, 377, 378,\n",
       "          379, 380, 381, 382, 383, 384, 385, 386, 387, 388, 389, 390, 391,\n",
       "          392, 393, 394, 395, 396, 397, 398, 399]),\n",
       "   array([  0,   1,   2,   3,   4,   5,   6,   7,   8,   9,  10,  11,  12,\n",
       "           13,  14,  15,  16,  17,  18,  19,  20,  21,  22,  23,  24,  25,\n",
       "           26,  27,  28,  29,  30,  31,  32,  33,  34,  35,  36,  37,  38,\n",
       "           39,  40,  41,  42,  43,  44,  45,  46,  47,  48,  49,  50,  51,\n",
       "           52,  53,  54,  55,  56,  57,  58,  59,  60,  61,  62,  63,  64,\n",
       "           65,  66,  67,  68,  69,  70,  71,  72,  73,  74,  75,  77,  78,\n",
       "           79,  81, 156, 157, 158, 159, 160, 161, 162, 163, 164, 165, 167,\n",
       "          168, 170, 172, 173, 174, 175, 176, 177, 179, 180, 181, 182, 183,\n",
       "          184, 185, 186, 187, 188, 189, 190, 191, 192, 193, 194, 195, 196,\n",
       "          197, 198, 199, 200, 201, 202, 203, 204, 205, 206, 207, 208, 209,\n",
       "          210, 211, 212, 213, 214, 215, 216, 217, 218, 219, 220, 221, 222,\n",
       "          223, 224, 225, 226, 227, 228, 229, 230, 231, 232, 233, 234, 235,\n",
       "          236, 237, 238, 239, 240, 241, 242, 243, 244, 245, 246, 247, 248,\n",
       "          249, 250, 251, 252, 253, 254, 255, 256, 257, 258, 259, 260, 261,\n",
       "          262, 263, 264, 265, 266, 267, 268, 269, 270, 271, 272, 273, 274,\n",
       "          275, 276, 277, 278, 279, 280, 281, 282, 283, 284, 285, 286, 287,\n",
       "          288, 289, 290, 291, 292, 293, 294, 295, 296, 297, 298, 299, 300,\n",
       "          301, 302, 303, 304, 305, 306, 307, 308, 309, 310, 311, 312, 313,\n",
       "          314, 315, 316, 317, 318, 319, 320, 321, 322, 323, 324, 325, 326,\n",
       "          327, 328, 329, 330, 331, 332, 333, 334, 335, 336, 337, 338, 339,\n",
       "          340, 341, 342, 343, 344, 345, 346, 347, 348, 349, 350, 351, 352,\n",
       "          353, 354, 355, 356, 357, 358, 359, 360, 361, 362, 363, 364, 365,\n",
       "          366, 367, 368, 369, 370, 371, 372, 373, 374, 375, 376, 377, 378,\n",
       "          379, 380, 381, 382, 383, 384, 385, 386, 387, 388, 389, 390, 391,\n",
       "          392, 393, 394, 395, 396, 397, 398, 399]),\n",
       "   array([  0,   1,   2,   3,   4,   5,   6,   7,   8,   9,  10,  11,  12,\n",
       "           13,  14,  15,  16,  17,  18,  19,  20,  21,  22,  23,  24,  25,\n",
       "           26,  27,  28,  29,  30,  31,  32,  33,  34,  35,  36,  37,  38,\n",
       "           39,  40,  41,  42,  43,  44,  45,  46,  47,  48,  49,  50,  51,\n",
       "           52,  53,  54,  55,  56,  57,  58,  59,  60,  61,  62,  63,  64,\n",
       "           65,  66,  67,  68,  69,  70,  71,  72,  73,  74,  75,  76,  77,\n",
       "           78,  79,  80,  81,  82,  83,  84,  85,  86,  87,  88,  89,  90,\n",
       "           91,  92,  93,  94,  95,  96,  97,  98,  99, 100, 101, 102, 103,\n",
       "          104, 105, 106, 107, 108, 109, 110, 111, 112, 113, 114, 115, 116,\n",
       "          117, 118, 119, 120, 121, 122, 123, 124, 125, 126, 127, 128, 129,\n",
       "          130, 131, 132, 133, 134, 135, 136, 137, 138, 139, 140, 141, 142,\n",
       "          143, 144, 145, 146, 147, 148, 149, 150, 151, 152, 153, 154, 155,\n",
       "          166, 169, 171, 178, 230, 232, 234, 235, 239, 240, 241, 242, 243,\n",
       "          244, 245, 246, 248, 249, 250, 251, 252, 253, 254, 255, 257, 258,\n",
       "          259, 260, 261, 262, 263, 264, 267, 268, 269, 270, 271, 273, 274,\n",
       "          275, 276, 277, 278, 279, 280, 281, 282, 283, 284, 285, 286, 287,\n",
       "          288, 289, 290, 291, 292, 293, 294, 295, 296, 297, 298, 299, 300,\n",
       "          301, 302, 303, 304, 305, 306, 307, 308, 309, 310, 311, 312, 313,\n",
       "          314, 315, 316, 317, 318, 319, 320, 321, 322, 323, 324, 325, 326,\n",
       "          327, 328, 329, 330, 331, 332, 333, 334, 335, 336, 337, 338, 339,\n",
       "          340, 341, 342, 343, 344, 345, 346, 347, 348, 349, 350, 351, 352,\n",
       "          353, 354, 355, 356, 357, 358, 359, 360, 361, 362, 363, 364, 365,\n",
       "          366, 367, 368, 369, 370, 371, 372, 373, 374, 375, 376, 377, 378,\n",
       "          379, 380, 381, 382, 383, 384, 385, 386, 387, 388, 389, 390, 391,\n",
       "          392, 393, 394, 395, 396, 397, 398, 399]),\n",
       "   array([  0,   1,   2,   3,   4,   5,   6,   7,   8,   9,  10,  11,  12,\n",
       "           13,  14,  15,  16,  17,  18,  19,  20,  21,  22,  23,  24,  25,\n",
       "           26,  27,  28,  29,  30,  31,  32,  33,  34,  35,  36,  37,  38,\n",
       "           39,  40,  41,  42,  43,  44,  45,  46,  47,  48,  49,  50,  51,\n",
       "           52,  53,  54,  55,  56,  57,  58,  59,  60,  61,  62,  63,  64,\n",
       "           65,  66,  67,  68,  69,  70,  71,  72,  73,  74,  75,  76,  77,\n",
       "           78,  79,  80,  81,  82,  83,  84,  85,  86,  87,  88,  89,  90,\n",
       "           91,  92,  93,  94,  95,  96,  97,  98,  99, 100, 101, 102, 103,\n",
       "          104, 105, 106, 107, 108, 109, 110, 111, 112, 113, 114, 115, 116,\n",
       "          117, 118, 119, 120, 121, 122, 123, 124, 125, 126, 127, 128, 129,\n",
       "          130, 131, 132, 133, 134, 135, 136, 137, 138, 139, 140, 141, 142,\n",
       "          143, 144, 145, 146, 147, 148, 149, 150, 151, 152, 153, 154, 155,\n",
       "          156, 157, 158, 159, 160, 161, 162, 163, 164, 165, 166, 167, 168,\n",
       "          169, 170, 171, 172, 173, 174, 175, 176, 177, 178, 179, 180, 181,\n",
       "          182, 183, 184, 185, 186, 187, 188, 189, 190, 191, 192, 193, 194,\n",
       "          195, 196, 197, 198, 199, 200, 201, 202, 203, 204, 205, 206, 207,\n",
       "          208, 209, 210, 211, 212, 213, 214, 215, 216, 217, 218, 219, 220,\n",
       "          221, 222, 223, 224, 225, 226, 227, 228, 229, 231, 233, 236, 237,\n",
       "          238, 247, 256, 265, 266, 272, 314, 315, 317, 321, 324, 325, 326,\n",
       "          327, 328, 329, 330, 331, 332, 333, 334, 335, 336, 337, 338, 339,\n",
       "          340, 341, 342, 343, 344, 345, 346, 347, 348, 349, 350, 351, 352,\n",
       "          353, 354, 355, 356, 357, 358, 359, 360, 361, 362, 363, 364, 365,\n",
       "          366, 367, 368, 369, 370, 371, 372, 373, 374, 375, 376, 377, 378,\n",
       "          379, 380, 381, 382, 383, 384, 385, 386, 387, 388, 389, 390, 391,\n",
       "          392, 393, 394, 395, 396, 397, 398, 399]),\n",
       "   array([  0,   1,   2,   3,   4,   5,   6,   7,   8,   9,  10,  11,  12,\n",
       "           13,  14,  15,  16,  17,  18,  19,  20,  21,  22,  23,  24,  25,\n",
       "           26,  27,  28,  29,  30,  31,  32,  33,  34,  35,  36,  37,  38,\n",
       "           39,  40,  41,  42,  43,  44,  45,  46,  47,  48,  49,  50,  51,\n",
       "           52,  53,  54,  55,  56,  57,  58,  59,  60,  61,  62,  63,  64,\n",
       "           65,  66,  67,  68,  69,  70,  71,  72,  73,  74,  75,  76,  77,\n",
       "           78,  79,  80,  81,  82,  83,  84,  85,  86,  87,  88,  89,  90,\n",
       "           91,  92,  93,  94,  95,  96,  97,  98,  99, 100, 101, 102, 103,\n",
       "          104, 105, 106, 107, 108, 109, 110, 111, 112, 113, 114, 115, 116,\n",
       "          117, 118, 119, 120, 121, 122, 123, 124, 125, 126, 127, 128, 129,\n",
       "          130, 131, 132, 133, 134, 135, 136, 137, 138, 139, 140, 141, 142,\n",
       "          143, 144, 145, 146, 147, 148, 149, 150, 151, 152, 153, 154, 155,\n",
       "          156, 157, 158, 159, 160, 161, 162, 163, 164, 165, 166, 167, 168,\n",
       "          169, 170, 171, 172, 173, 174, 175, 176, 177, 178, 179, 180, 181,\n",
       "          182, 183, 184, 185, 186, 187, 188, 189, 190, 191, 192, 193, 194,\n",
       "          195, 196, 197, 198, 199, 200, 201, 202, 203, 204, 205, 206, 207,\n",
       "          208, 209, 210, 211, 212, 213, 214, 215, 216, 217, 218, 219, 220,\n",
       "          221, 222, 223, 224, 225, 226, 227, 228, 229, 230, 231, 232, 233,\n",
       "          234, 235, 236, 237, 238, 239, 240, 241, 242, 243, 244, 245, 246,\n",
       "          247, 248, 249, 250, 251, 252, 253, 254, 255, 256, 257, 258, 259,\n",
       "          260, 261, 262, 263, 264, 265, 266, 267, 268, 269, 270, 271, 272,\n",
       "          273, 274, 275, 276, 277, 278, 279, 280, 281, 282, 283, 284, 285,\n",
       "          286, 287, 288, 289, 290, 291, 292, 293, 294, 295, 296, 297, 298,\n",
       "          299, 300, 301, 302, 303, 304, 305, 306, 307, 308, 309, 310, 311,\n",
       "          312, 313, 316, 318, 319, 320, 322, 323])),\n",
       "  'test': (array([ 0,  1,  2,  3,  4,  5,  6,  7,  8,  9, 10, 11, 12, 13, 14, 15, 16,\n",
       "          17, 18, 19, 20, 21, 22, 23, 24, 25, 26, 27, 28, 29, 30, 31, 32, 33,\n",
       "          34, 35, 36, 37, 38, 39, 40, 41, 42, 43, 44, 45, 46, 47, 48, 49, 50,\n",
       "          51, 52, 53, 54, 55, 56, 57, 58, 59, 60, 61, 62, 63, 64, 65, 66, 67,\n",
       "          68, 69, 70, 71, 72, 73, 74, 75, 77, 78, 79, 81]),\n",
       "   array([ 76,  80,  82,  83,  84,  85,  86,  87,  88,  89,  90,  91,  92,\n",
       "           93,  94,  95,  96,  97,  98,  99, 100, 101, 102, 103, 104, 105,\n",
       "          106, 107, 108, 109, 110, 111, 112, 113, 114, 115, 116, 117, 118,\n",
       "          119, 120, 121, 122, 123, 124, 125, 126, 127, 128, 129, 130, 131,\n",
       "          132, 133, 134, 135, 136, 137, 138, 139, 140, 141, 142, 143, 144,\n",
       "          145, 146, 147, 148, 149, 150, 151, 152, 153, 154, 155, 166, 169,\n",
       "          171, 178]),\n",
       "   array([156, 157, 158, 159, 160, 161, 162, 163, 164, 165, 167, 168, 170,\n",
       "          172, 173, 174, 175, 176, 177, 179, 180, 181, 182, 183, 184, 185,\n",
       "          186, 187, 188, 189, 190, 191, 192, 193, 194, 195, 196, 197, 198,\n",
       "          199, 200, 201, 202, 203, 204, 205, 206, 207, 208, 209, 210, 211,\n",
       "          212, 213, 214, 215, 216, 217, 218, 219, 220, 221, 222, 223, 224,\n",
       "          225, 226, 227, 228, 229, 231, 233, 236, 237, 238, 247, 256, 265,\n",
       "          266, 272]),\n",
       "   array([230, 232, 234, 235, 239, 240, 241, 242, 243, 244, 245, 246, 248,\n",
       "          249, 250, 251, 252, 253, 254, 255, 257, 258, 259, 260, 261, 262,\n",
       "          263, 264, 267, 268, 269, 270, 271, 273, 274, 275, 276, 277, 278,\n",
       "          279, 280, 281, 282, 283, 284, 285, 286, 287, 288, 289, 290, 291,\n",
       "          292, 293, 294, 295, 296, 297, 298, 299, 300, 301, 302, 303, 304,\n",
       "          305, 306, 307, 308, 309, 310, 311, 312, 313, 316, 318, 319, 320,\n",
       "          322, 323]),\n",
       "   array([314, 315, 317, 321, 324, 325, 326, 327, 328, 329, 330, 331, 332,\n",
       "          333, 334, 335, 336, 337, 338, 339, 340, 341, 342, 343, 344, 345,\n",
       "          346, 347, 348, 349, 350, 351, 352, 353, 354, 355, 356, 357, 358,\n",
       "          359, 360, 361, 362, 363, 364, 365, 366, 367, 368, 369, 370, 371,\n",
       "          372, 373, 374, 375, 376, 377, 378, 379, 380, 381, 382, 383, 384,\n",
       "          385, 386, 387, 388, 389, 390, 391, 392, 393, 394, 395, 396, 397,\n",
       "          398, 399]))},\n",
       " 'test_accuracy': {'permutacion': array([0.625 , 0.575 , 0.6875, 0.725 , 0.7375]),\n",
       "  'promedio': 0.6699999999999999},\n",
       " 'train_accuracy': {'permutacion': array([0.80625 , 0.825   , 0.834375, 0.828125, 0.846875]),\n",
       "  'promedio': 0.828125},\n",
       " 'test_roc_auc': {'permutacion': array([0.62611607, 0.56290909, 0.67090909, 0.65454545, 0.76945455]),\n",
       "  'promedio': 0.6567868506493506},\n",
       " 'train_roc_auc': {'permutacion': array([0.84904545, 0.84665661, 0.86489328, 0.87394305, 0.87618264]),\n",
       "  'promedio': 0.8621442067736185},\n",
       " 'test_average_precision': {'permutacion': array([0.40196523, 0.40441714, 0.45898944, 0.44166951, 0.55660879]),\n",
       "  'promedio': 0.45273002172760834},\n",
       " 'train_average_precision': {'permutacion': array([0.69757306, 0.6859659 , 0.76201953, 0.75149411, 0.77301486]),\n",
       "  'promedio': 0.7340134911620051}}"
      ]
     },
     "execution_count": 8,
     "metadata": {},
     "output_type": "execute_result"
    }
   ],
   "source": [
    "for metrica in list(scores.keys())[4:]:\n",
    "    scores[metrica] = {'permutacion': scores[metrica], 'promedio': np.mean(scores[metrica])}\n",
    "\n",
    "scores"
   ]
  },
  {
   "cell_type": "markdown",
   "metadata": {},
   "source": [
    "(?) cross_val_predict"
   ]
  },
  {
   "cell_type": "code",
   "execution_count": 9,
   "metadata": {},
   "outputs": [],
   "source": [
    "pred_folds = np.array([])\n",
    "real_folds = np.array([])\n",
    "for i in range(5):\n",
    "    pred_folds = np.concatenate((pred_folds, scores['estimator'][i].predict(X_train.iloc[scores['indices']['test'][i]])))\n",
    "    real_folds = np.concatenate((real_folds, y_train[scores['indices']['test'][i]]))"
   ]
  },
  {
   "cell_type": "code",
   "execution_count": 10,
   "metadata": {},
   "outputs": [
    {
     "data": {
      "text/plain": [
       "{'accuracy': 0.67, 'AUPRC': 0.38378251821019765, 'AUCROC': 0.6143057503506312}"
      ]
     },
     "execution_count": 10,
     "metadata": {},
     "output_type": "execute_result"
    }
   ],
   "source": [
    "global_scores = {'accuracy': metrics.accuracy_score(real_folds, pred_folds),\n",
    "                 'AUPRC': metrics.average_precision_score(real_folds, pred_folds),\n",
    "                 'AUCROC': metrics.roc_auc_score(real_folds, pred_folds)}\n",
    "global_scores"
   ]
  },
  {
   "cell_type": "code",
   "execution_count": 11,
   "metadata": {},
   "outputs": [],
   "source": [
    "grilla = model_selection.ParameterGrid({'max_depth': [3, 5, None], 'criterion': ['gini', 'entropy']})\n",
    "scores_grilla = []\n",
    "\n",
    "for params in grilla:\n",
    "    arbol = tree.DecisionTreeClassifier(**params)\n",
    "    scores_grilla += [model_selection.cross_validate(arbol, X_train, y_train, cv=5, return_train_score=True)]\n",
    "    scores_grilla[-1]['promedio_test'] = np.mean(scores_grilla[-1]['test_score'])\n",
    "    scores_grilla[-1]['promedio_train'] = np.mean(scores_grilla[-1]['train_score'])"
   ]
  },
  {
   "cell_type": "code",
   "execution_count": 12,
   "metadata": {},
   "outputs": [
    {
     "data": {
      "text/plain": [
       "[{'criterion': 'gini', 'max_depth': 3},\n",
       " {'criterion': 'gini', 'max_depth': 5},\n",
       " {'criterion': 'gini', 'max_depth': None},\n",
       " {'criterion': 'entropy', 'max_depth': 3},\n",
       " {'criterion': 'entropy', 'max_depth': 5},\n",
       " {'criterion': 'entropy', 'max_depth': None}]"
      ]
     },
     "execution_count": 12,
     "metadata": {},
     "output_type": "execute_result"
    }
   ],
   "source": [
    "[param for param in grilla]"
   ]
  },
  {
   "cell_type": "code",
   "execution_count": 13,
   "metadata": {},
   "outputs": [
    {
     "data": {
      "text/plain": [
       "[{'fit_time': array([0.01957273, 0.018399  , 0.0190537 , 0.0183301 , 0.01817536]),\n",
       "  'score_time': array([0.00205445, 0.00204206, 0.0017643 , 0.00190902, 0.00168395]),\n",
       "  'test_score': array([0.625 , 0.575 , 0.6875, 0.725 , 0.7375]),\n",
       "  'train_score': array([0.80625 , 0.825   , 0.834375, 0.828125, 0.846875]),\n",
       "  'promedio_test': 0.6699999999999999,\n",
       "  'promedio_train': 0.828125},\n",
       " {'fit_time': array([0.02724242, 0.02655435, 0.02691126, 0.02618003, 0.02606535]),\n",
       "  'score_time': array([0.00177813, 0.00191021, 0.00171518, 0.00173092, 0.00180197]),\n",
       "  'test_score': array([0.6375, 0.6   , 0.6875, 0.65  , 0.725 ]),\n",
       "  'train_score': array([0.95    , 0.9625  , 0.96875 , 0.975   , 0.953125]),\n",
       "  'promedio_test': 0.6599999999999999,\n",
       "  'promedio_train': 0.961875},\n",
       " {'fit_time': array([0.03219914, 0.04238844, 0.03493524, 0.02925205, 0.03686285]),\n",
       "  'score_time': array([0.00183439, 0.00172019, 0.00180387, 0.00183511, 0.00178432]),\n",
       "  'test_score': array([0.6125, 0.575 , 0.65  , 0.6125, 0.7   ]),\n",
       "  'train_score': array([1., 1., 1., 1., 1.]),\n",
       "  'promedio_test': 0.6300000000000001,\n",
       "  'promedio_train': 1.0},\n",
       " {'fit_time': array([0.02307987, 0.02331853, 0.02406478, 0.02341771, 0.02395177]),\n",
       "  'score_time': array([0.00274849, 0.00179815, 0.00171733, 0.00181127, 0.00181651]),\n",
       "  'test_score': array([0.6875, 0.6625, 0.725 , 0.6625, 0.7375]),\n",
       "  'train_score': array([0.775   , 0.746875, 0.83125 , 0.81875 , 0.8375  ]),\n",
       "  'promedio_test': 0.6950000000000001,\n",
       "  'promedio_train': 0.8018750000000001},\n",
       " {'fit_time': array([0.03072906, 0.0351727 , 0.03287601, 0.03515148, 0.03404164]),\n",
       "  'score_time': array([0.00193739, 0.00172234, 0.00174618, 0.00181532, 0.00171256]),\n",
       "  'test_score': array([0.675 , 0.5125, 0.7   , 0.725 , 0.725 ]),\n",
       "  'train_score': array([0.903125, 0.9125  , 0.915625, 0.93125 , 0.90625 ]),\n",
       "  'promedio_test': 0.6675,\n",
       "  'promedio_train': 0.91375},\n",
       " {'fit_time': array([0.03557181, 0.0390203 , 0.03541636, 0.03701186, 0.03740788]),\n",
       "  'score_time': array([0.00242591, 0.00173783, 0.0017705 , 0.00168681, 0.00178218]),\n",
       "  'test_score': array([0.6625, 0.575 , 0.7125, 0.6375, 0.7   ]),\n",
       "  'train_score': array([1., 1., 1., 1., 1.]),\n",
       "  'promedio_test': 0.6575,\n",
       "  'promedio_train': 1.0}]"
      ]
     },
     "execution_count": 13,
     "metadata": {},
     "output_type": "execute_result"
    }
   ],
   "source": [
    "scores_grilla"
   ]
  },
  {
   "cell_type": "markdown",
   "metadata": {},
   "source": [
    "(!) faltan conclusiones\n",
    "\n",
    "- los ultimos dan 1 porque tienen altura maxima inf\n",
    "- decir algo de entropy vs. gini"
   ]
  },
  {
   "cell_type": "markdown",
   "metadata": {},
   "source": [
    "# Ejercicio 3"
   ]
  },
  {
   "cell_type": "code",
   "execution_count": 14,
   "metadata": {},
   "outputs": [],
   "source": [
    "from sklearn import neighbors, svm, discriminant_analysis, naive_bayes"
   ]
  },
  {
   "cell_type": "code",
   "execution_count": 15,
   "metadata": {},
   "outputs": [],
   "source": [
    "tree_params = {'max_depth': [i for i in range(20)], 'criterion': ['gini', 'entropy', 'log_loss'], 'max_features': ['sqrt', 'log2']}\n",
    "knn_params = {'n_neighbors': [i for i in range(1, 20)], 'metric': ['l1', 'l2', 'cosine']}\n",
    "svm_params = {'C': np.linspace(1, 10, 20), 'tol': [10 ** -i for i in range(1, 6)], 'kernel': ['linear', 'rbf', 'polynomial']}\n",
    "lda_params = {'solver': ['lsqr', 'eigen'], 'shrinkage': [None, 'auto', 0.1, 0.5, 1.0]}\n",
    "naive_params = {'priors': [[i, 1-i] for i in np.linspace(0, 1, 100)]}"
   ]
  },
  {
   "cell_type": "code",
   "execution_count": 16,
   "metadata": {},
   "outputs": [
    {
     "name": "stderr",
     "output_type": "stream",
     "text": [
      "/home/godo/.local/lib/python3.10/site-packages/sklearn/model_selection/_validation.py:547: FitFailedWarning: \n",
      "10 fits failed out of a total of 50.\n",
      "The score on these train-test partitions for these parameters will be set to nan.\n",
      "If these failures are not expected, you can try to debug them by setting error_score='raise'.\n",
      "\n",
      "Below are more details about the failures:\n",
      "--------------------------------------------------------------------------------\n",
      "10 fits failed with the following error:\n",
      "Traceback (most recent call last):\n",
      "  File \"/home/godo/.local/lib/python3.10/site-packages/sklearn/model_selection/_validation.py\", line 895, in _fit_and_score\n",
      "    estimator.fit(X_train, y_train, **fit_params)\n",
      "  File \"/home/godo/.local/lib/python3.10/site-packages/sklearn/base.py\", line 1467, in wrapper\n",
      "    estimator._validate_params()\n",
      "  File \"/home/godo/.local/lib/python3.10/site-packages/sklearn/base.py\", line 666, in _validate_params\n",
      "    validate_parameter_constraints(\n",
      "  File \"/home/godo/.local/lib/python3.10/site-packages/sklearn/utils/_param_validation.py\", line 95, in validate_parameter_constraints\n",
      "    raise InvalidParameterError(\n",
      "sklearn.utils._param_validation.InvalidParameterError: The 'max_depth' parameter of DecisionTreeClassifier must be an int in the range [1, inf) or None. Got 0 instead.\n",
      "\n",
      "  warnings.warn(some_fits_failed_message, FitFailedWarning)\n",
      "/home/godo/.local/lib/python3.10/site-packages/sklearn/model_selection/_search.py:1051: UserWarning: One or more of the test scores are non-finite: [       nan 0.56078923 0.58291558 0.49861396        nan 0.563027\n",
      " 0.56010606 0.59768831 0.5832651  0.53438745]\n",
      "  warnings.warn(\n",
      "/home/godo/.local/lib/python3.10/site-packages/sklearn/model_selection/_validation.py:547: FitFailedWarning: \n",
      "20 fits failed out of a total of 50.\n",
      "The score on these train-test partitions for these parameters will be set to nan.\n",
      "If these failures are not expected, you can try to debug them by setting error_score='raise'.\n",
      "\n",
      "Below are more details about the failures:\n",
      "--------------------------------------------------------------------------------\n",
      "20 fits failed with the following error:\n",
      "Traceback (most recent call last):\n",
      "  File \"/home/godo/.local/lib/python3.10/site-packages/sklearn/model_selection/_validation.py\", line 895, in _fit_and_score\n",
      "    estimator.fit(X_train, y_train, **fit_params)\n",
      "  File \"/home/godo/.local/lib/python3.10/site-packages/sklearn/base.py\", line 1467, in wrapper\n",
      "    estimator._validate_params()\n",
      "  File \"/home/godo/.local/lib/python3.10/site-packages/sklearn/base.py\", line 666, in _validate_params\n",
      "    validate_parameter_constraints(\n",
      "  File \"/home/godo/.local/lib/python3.10/site-packages/sklearn/utils/_param_validation.py\", line 95, in validate_parameter_constraints\n",
      "    raise InvalidParameterError(\n",
      "sklearn.utils._param_validation.InvalidParameterError: The 'kernel' parameter of SVC must be a str among {'rbf', 'precomputed', 'poly', 'sigmoid', 'linear'} or a callable. Got 'polynomial' instead.\n",
      "\n",
      "  warnings.warn(some_fits_failed_message, FitFailedWarning)\n",
      "/home/godo/.local/lib/python3.10/site-packages/sklearn/model_selection/_search.py:1051: UserWarning: One or more of the test scores are non-finite: [0.78568669 0.78641732 0.78554123 0.78568669        nan        nan\n",
      " 0.78554123        nan        nan 0.89513203]\n",
      "  warnings.warn(\n",
      "/home/godo/.local/lib/python3.10/site-packages/sklearn/model_selection/_validation.py:547: FitFailedWarning: \n",
      "5 fits failed out of a total of 50.\n",
      "The score on these train-test partitions for these parameters will be set to nan.\n",
      "If these failures are not expected, you can try to debug them by setting error_score='raise'.\n",
      "\n",
      "Below are more details about the failures:\n",
      "--------------------------------------------------------------------------------\n",
      "3 fits failed with the following error:\n",
      "Traceback (most recent call last):\n",
      "  File \"/home/godo/.local/lib/python3.10/site-packages/sklearn/model_selection/_validation.py\", line 895, in _fit_and_score\n",
      "    estimator.fit(X_train, y_train, **fit_params)\n",
      "  File \"/home/godo/.local/lib/python3.10/site-packages/sklearn/base.py\", line 1474, in wrapper\n",
      "    return fit_method(estimator, *args, **kwargs)\n",
      "  File \"/home/godo/.local/lib/python3.10/site-packages/sklearn/discriminant_analysis.py\", line 637, in fit\n",
      "    self._solve_eigen(\n",
      "  File \"/home/godo/.local/lib/python3.10/site-packages/sklearn/discriminant_analysis.py\", line 467, in _solve_eigen\n",
      "    evals, evecs = linalg.eigh(Sb, Sw)\n",
      "  File \"/home/godo/.local/lib/python3.10/site-packages/scipy/_lib/deprecation.py\", line 213, in inner_f\n",
      "    return f(*args, **kwargs)\n",
      "  File \"/home/godo/.local/lib/python3.10/site-packages/scipy/linalg/_decomp.py\", line 593, in eigh\n",
      "    raise LinAlgError(f'The leading minor of order {info-n} of B is not '\n",
      "numpy.linalg.LinAlgError: The leading minor of order 141 of B is not positive definite. The factorization of B could not be completed and no eigenvalues or eigenvectors were computed.\n",
      "\n",
      "--------------------------------------------------------------------------------\n",
      "1 fits failed with the following error:\n",
      "Traceback (most recent call last):\n",
      "  File \"/home/godo/.local/lib/python3.10/site-packages/sklearn/model_selection/_validation.py\", line 895, in _fit_and_score\n",
      "    estimator.fit(X_train, y_train, **fit_params)\n",
      "  File \"/home/godo/.local/lib/python3.10/site-packages/sklearn/base.py\", line 1474, in wrapper\n",
      "    return fit_method(estimator, *args, **kwargs)\n",
      "  File \"/home/godo/.local/lib/python3.10/site-packages/sklearn/discriminant_analysis.py\", line 637, in fit\n",
      "    self._solve_eigen(\n",
      "  File \"/home/godo/.local/lib/python3.10/site-packages/sklearn/discriminant_analysis.py\", line 467, in _solve_eigen\n",
      "    evals, evecs = linalg.eigh(Sb, Sw)\n",
      "  File \"/home/godo/.local/lib/python3.10/site-packages/scipy/_lib/deprecation.py\", line 213, in inner_f\n",
      "    return f(*args, **kwargs)\n",
      "  File \"/home/godo/.local/lib/python3.10/site-packages/scipy/linalg/_decomp.py\", line 593, in eigh\n",
      "    raise LinAlgError(f'The leading minor of order {info-n} of B is not '\n",
      "numpy.linalg.LinAlgError: The leading minor of order 144 of B is not positive definite. The factorization of B could not be completed and no eigenvalues or eigenvectors were computed.\n",
      "\n",
      "--------------------------------------------------------------------------------\n",
      "1 fits failed with the following error:\n",
      "Traceback (most recent call last):\n",
      "  File \"/home/godo/.local/lib/python3.10/site-packages/sklearn/model_selection/_validation.py\", line 895, in _fit_and_score\n",
      "    estimator.fit(X_train, y_train, **fit_params)\n",
      "  File \"/home/godo/.local/lib/python3.10/site-packages/sklearn/base.py\", line 1474, in wrapper\n",
      "    return fit_method(estimator, *args, **kwargs)\n",
      "  File \"/home/godo/.local/lib/python3.10/site-packages/sklearn/discriminant_analysis.py\", line 637, in fit\n",
      "    self._solve_eigen(\n",
      "  File \"/home/godo/.local/lib/python3.10/site-packages/sklearn/discriminant_analysis.py\", line 467, in _solve_eigen\n",
      "    evals, evecs = linalg.eigh(Sb, Sw)\n",
      "  File \"/home/godo/.local/lib/python3.10/site-packages/scipy/_lib/deprecation.py\", line 213, in inner_f\n",
      "    return f(*args, **kwargs)\n",
      "  File \"/home/godo/.local/lib/python3.10/site-packages/scipy/linalg/_decomp.py\", line 593, in eigh\n",
      "    raise LinAlgError(f'The leading minor of order {info-n} of B is not '\n",
      "numpy.linalg.LinAlgError: The leading minor of order 148 of B is not positive definite. The factorization of B could not be completed and no eigenvalues or eigenvectors were computed.\n",
      "\n",
      "  warnings.warn(some_fits_failed_message, FitFailedWarning)\n",
      "/home/godo/.local/lib/python3.10/site-packages/sklearn/model_selection/_search.py:1051: UserWarning: One or more of the test scores are non-finite: [0.75401786        nan 0.84129156 0.84129156 0.86221017 0.86221017\n",
      " 0.86808203 0.86808203 0.7749566  0.7749566 ]\n",
      "  warnings.warn(\n"
     ]
    }
   ],
   "source": [
    "modelos = {\n",
    "    tree.DecisionTreeClassifier: tree_params,\n",
    "    neighbors.KNeighborsClassifier: knn_params,\n",
    "    svm.SVC: svm_params,\n",
    "    discriminant_analysis.LinearDiscriminantAnalysis: lda_params,\n",
    "    naive_bayes.GaussianNB: naive_params\n",
    "}\n",
    "\n",
    "results = {}\n",
    "mejores = []\n",
    "\n",
    "for modelo, params in modelos.items():\n",
    "    search = model_selection.RandomizedSearchCV(estimator=modelo(),\n",
    "                                       param_distributions=params,\n",
    "                                       scoring='roc_auc')\n",
    "    search.fit(X_train, y_train)\n",
    "    results[modelo] = search.cv_results_\n",
    "    mejores.append(search.best_estimator_)"
   ]
  },
  {
   "cell_type": "code",
   "execution_count": 17,
   "metadata": {},
   "outputs": [
    {
     "name": "stdout",
     "output_type": "stream",
     "text": [
      "<class 'sklearn.tree._classes.DecisionTreeClassifier'> [       nan 0.56078923 0.58291558 0.49861396        nan 0.563027\n",
      " 0.56010606 0.59768831 0.5832651  0.53438745]\n",
      "<class 'sklearn.neighbors._classification.KNeighborsClassifier'> [0.73616012 0.85813122 0.75875925 0.8337375  0.83658669 0.72797835\n",
      " 0.78618187 0.82527549 0.82553285 0.82142489]\n",
      "<class 'sklearn.svm._classes.SVC'> [0.78568669 0.78641732 0.78554123 0.78568669        nan        nan\n",
      " 0.78554123        nan        nan 0.89513203]\n",
      "<class 'sklearn.discriminant_analysis.LinearDiscriminantAnalysis'> [0.75401786        nan 0.84129156 0.84129156 0.86221017 0.86221017\n",
      " 0.86808203 0.86808203 0.7749566  0.7749566 ]\n",
      "<class 'sklearn.naive_bayes.GaussianNB'> [0.79972511 0.79972511 0.79972511 0.79972511 0.79972511 0.79972511\n",
      " 0.79972511 0.79972511 0.79972511 0.79972511]\n"
     ]
    }
   ],
   "source": [
    "for modelo in modelos.keys():\n",
    "    print(modelo, results[modelo]['mean_test_score'])"
   ]
  },
  {
   "cell_type": "code",
   "execution_count": 18,
   "metadata": {},
   "outputs": [
    {
     "name": "stdout",
     "output_type": "stream",
     "text": [
      "DecisionTreeClassifier(criterion='entropy', max_depth=11, max_features='sqrt')\n",
      "KNeighborsClassifier(metric='l1', n_neighbors=10)\n",
      "SVC(C=9.052631578947368, tol=1e-05)\n",
      "LinearDiscriminantAnalysis(shrinkage=0.5, solver='lsqr')\n",
      "GaussianNB(priors=[0.8787878787878789, 0.1212121212121211])\n"
     ]
    }
   ],
   "source": [
    "for modelo in mejores:\n",
    "    print(modelo)"
   ]
  },
  {
   "cell_type": "markdown",
   "metadata": {},
   "source": [
    "# Ejercicio 4\n",
    "\n",
    "Arbol de decision, LDA, SVM"
   ]
  },
  {
   "cell_type": "code",
   "execution_count": 19,
   "metadata": {},
   "outputs": [],
   "source": [
    "import matplotlib.pyplot as plt\n",
    "from sklearn.model_selection import ValidationCurveDisplay"
   ]
  },
  {
   "cell_type": "code",
   "execution_count": 36,
   "metadata": {},
   "outputs": [
    {
     "data": {
      "text/plain": [
       "Text(0.5, 1.0, 'Arbol de decision')"
      ]
     },
     "execution_count": 36,
     "metadata": {},
     "output_type": "execute_result"
    },
    {
     "data": {
      "image/png": "[encoded data removed]",
      "text/plain": [
       "<Figure size 640x480 with 1 Axes>"
      ]
     },
     "metadata": {},
     "output_type": "display_data"
    }
   ],
   "source": [
    "ValidationCurveDisplay.from_estimator(mejores[0], X_train, y_train, param_name='max_depth', param_range=[i for i in range(10)], std_display_style=None, scoring='roc_auc')\n",
    "plt.title('Arbol de decision')"
   ]
  },
  {
   "cell_type": "code",
   "execution_count": 58,
   "metadata": {},
   "outputs": [
    {
     "data": {
      "text/plain": [
       "Text(0.5, 1.0, 'SVM')"
      ]
     },
     "execution_count": 58,
     "metadata": {},
     "output_type": "execute_result"
    },
    {
     "data": {
      "image/png": "[encoded data removed]",
      "text/plain": [
       "<Figure size 640x480 with 1 Axes>"
      ]
     },
     "metadata": {},
     "output_type": "display_data"
    }
   ],
   "source": [
    "ValidationCurveDisplay.from_estimator(mejores[2], X_train, y_train, param_name='C', param_range=np.logspace(-1, 1, 10), std_display_style=None, scoring='roc_auc')\n",
    "plt.title('SVM')"
   ]
  },
  {
   "cell_type": "code",
   "execution_count": 22,
   "metadata": {},
   "outputs": [],
   "source": [
    "from sklearn.model_selection import LearningCurveDisplay"
   ]
  },
  {
   "cell_type": "code",
   "execution_count": null,
   "metadata": {},
   "outputs": [],
   "source": [
    "# Usamos siempre el mismo conjunto de validacion (el ultimo 20%, porque permutamos los datos)\n",
    "train_test_indices = [([i for i in range(320)], [i for i in range(320, 400)])]"
   ]
  },
  {
   "cell_type": "code",
   "execution_count": 39,
   "metadata": {},
   "outputs": [
    {
     "name": "stderr",
     "output_type": "stream",
     "text": [
      "/home/godo/.local/lib/python3.10/site-packages/sklearn/model_selection/_validation.py:993: UserWarning: Scoring failed. The score on this train-test partition for these parameters will be set to nan. Details: \n",
      "Traceback (most recent call last):\n",
      "  File \"/home/godo/.local/lib/python3.10/site-packages/sklearn/model_selection/_validation.py\", line 982, in _score\n",
      "    scores = scorer(estimator, X_test, y_test, **score_params)\n",
      "  File \"/home/godo/.local/lib/python3.10/site-packages/sklearn/metrics/_scorer.py\", line 253, in __call__\n",
      "    return self._score(partial(_cached_call, None), estimator, X, y_true, **_kwargs)\n",
      "  File \"/home/godo/.local/lib/python3.10/site-packages/sklearn/metrics/_scorer.py\", line 345, in _score\n",
      "    y_pred = method_caller(\n",
      "  File \"/home/godo/.local/lib/python3.10/site-packages/sklearn/metrics/_scorer.py\", line 87, in _cached_call\n",
      "    result, _ = _get_response_values(\n",
      "  File \"/home/godo/.local/lib/python3.10/site-packages/sklearn/utils/_response.py\", line 213, in _get_response_values\n",
      "    y_pred = _process_predict_proba(\n",
      "  File \"/home/godo/.local/lib/python3.10/site-packages/sklearn/utils/_response.py\", line 50, in _process_predict_proba\n",
      "    raise ValueError(\n",
      "ValueError: Got predict_proba of shape (80, 1), but need classifier with two classes.\n",
      "\n",
      "  warnings.warn(\n",
      "/home/godo/.local/lib/python3.10/site-packages/sklearn/model_selection/_validation.py:993: UserWarning: Scoring failed. The score on this train-test partition for these parameters will be set to nan. Details: \n",
      "Traceback (most recent call last):\n",
      "  File \"/home/godo/.local/lib/python3.10/site-packages/sklearn/model_selection/_validation.py\", line 982, in _score\n",
      "    scores = scorer(estimator, X_test, y_test, **score_params)\n",
      "  File \"/home/godo/.local/lib/python3.10/site-packages/sklearn/metrics/_scorer.py\", line 253, in __call__\n",
      "    return self._score(partial(_cached_call, None), estimator, X, y_true, **_kwargs)\n",
      "  File \"/home/godo/.local/lib/python3.10/site-packages/sklearn/metrics/_scorer.py\", line 345, in _score\n",
      "    y_pred = method_caller(\n",
      "  File \"/home/godo/.local/lib/python3.10/site-packages/sklearn/metrics/_scorer.py\", line 87, in _cached_call\n",
      "    result, _ = _get_response_values(\n",
      "  File \"/home/godo/.local/lib/python3.10/site-packages/sklearn/utils/_response.py\", line 213, in _get_response_values\n",
      "    y_pred = _process_predict_proba(\n",
      "  File \"/home/godo/.local/lib/python3.10/site-packages/sklearn/utils/_response.py\", line 50, in _process_predict_proba\n",
      "    raise ValueError(\n",
      "ValueError: Got predict_proba of shape (1, 1), but need classifier with two classes.\n",
      "\n",
      "  warnings.warn(\n",
      "/home/godo/.local/lib/python3.10/site-packages/sklearn/model_selection/_validation.py:993: UserWarning: Scoring failed. The score on this train-test partition for these parameters will be set to nan. Details: \n",
      "Traceback (most recent call last):\n",
      "  File \"/home/godo/.local/lib/python3.10/site-packages/sklearn/model_selection/_validation.py\", line 982, in _score\n",
      "    scores = scorer(estimator, X_test, y_test, **score_params)\n",
      "  File \"/home/godo/.local/lib/python3.10/site-packages/sklearn/metrics/_scorer.py\", line 253, in __call__\n",
      "    return self._score(partial(_cached_call, None), estimator, X, y_true, **_kwargs)\n",
      "  File \"/home/godo/.local/lib/python3.10/site-packages/sklearn/metrics/_scorer.py\", line 345, in _score\n",
      "    y_pred = method_caller(\n",
      "  File \"/home/godo/.local/lib/python3.10/site-packages/sklearn/metrics/_scorer.py\", line 87, in _cached_call\n",
      "    result, _ = _get_response_values(\n",
      "  File \"/home/godo/.local/lib/python3.10/site-packages/sklearn/utils/_response.py\", line 213, in _get_response_values\n",
      "    y_pred = _process_predict_proba(\n",
      "  File \"/home/godo/.local/lib/python3.10/site-packages/sklearn/utils/_response.py\", line 50, in _process_predict_proba\n",
      "    raise ValueError(\n",
      "ValueError: Got predict_proba of shape (80, 1), but need classifier with two classes.\n",
      "\n",
      "  warnings.warn(\n",
      "/home/godo/.local/lib/python3.10/site-packages/sklearn/model_selection/_validation.py:993: UserWarning: Scoring failed. The score on this train-test partition for these parameters will be set to nan. Details: \n",
      "Traceback (most recent call last):\n",
      "  File \"/home/godo/.local/lib/python3.10/site-packages/sklearn/model_selection/_validation.py\", line 982, in _score\n",
      "    scores = scorer(estimator, X_test, y_test, **score_params)\n",
      "  File \"/home/godo/.local/lib/python3.10/site-packages/sklearn/metrics/_scorer.py\", line 253, in __call__\n",
      "    return self._score(partial(_cached_call, None), estimator, X, y_true, **_kwargs)\n",
      "  File \"/home/godo/.local/lib/python3.10/site-packages/sklearn/metrics/_scorer.py\", line 345, in _score\n",
      "    y_pred = method_caller(\n",
      "  File \"/home/godo/.local/lib/python3.10/site-packages/sklearn/metrics/_scorer.py\", line 87, in _cached_call\n",
      "    result, _ = _get_response_values(\n",
      "  File \"/home/godo/.local/lib/python3.10/site-packages/sklearn/utils/_response.py\", line 213, in _get_response_values\n",
      "    y_pred = _process_predict_proba(\n",
      "  File \"/home/godo/.local/lib/python3.10/site-packages/sklearn/utils/_response.py\", line 50, in _process_predict_proba\n",
      "    raise ValueError(\n",
      "ValueError: Got predict_proba of shape (1, 1), but need classifier with two classes.\n",
      "\n",
      "  warnings.warn(\n",
      "/home/godo/.local/lib/python3.10/site-packages/sklearn/model_selection/_validation.py:993: UserWarning: Scoring failed. The score on this train-test partition for these parameters will be set to nan. Details: \n",
      "Traceback (most recent call last):\n",
      "  File \"/home/godo/.local/lib/python3.10/site-packages/sklearn/model_selection/_validation.py\", line 982, in _score\n",
      "    scores = scorer(estimator, X_test, y_test, **score_params)\n",
      "  File \"/home/godo/.local/lib/python3.10/site-packages/sklearn/metrics/_scorer.py\", line 253, in __call__\n",
      "    return self._score(partial(_cached_call, None), estimator, X, y_true, **_kwargs)\n",
      "  File \"/home/godo/.local/lib/python3.10/site-packages/sklearn/metrics/_scorer.py\", line 345, in _score\n",
      "    y_pred = method_caller(\n",
      "  File \"/home/godo/.local/lib/python3.10/site-packages/sklearn/metrics/_scorer.py\", line 87, in _cached_call\n",
      "    result, _ = _get_response_values(\n",
      "  File \"/home/godo/.local/lib/python3.10/site-packages/sklearn/utils/_response.py\", line 213, in _get_response_values\n",
      "    y_pred = _process_predict_proba(\n",
      "  File \"/home/godo/.local/lib/python3.10/site-packages/sklearn/utils/_response.py\", line 50, in _process_predict_proba\n",
      "    raise ValueError(\n",
      "ValueError: Got predict_proba of shape (80, 1), but need classifier with two classes.\n",
      "\n",
      "  warnings.warn(\n",
      "/home/godo/.local/lib/python3.10/site-packages/sklearn/model_selection/_validation.py:993: UserWarning: Scoring failed. The score on this train-test partition for these parameters will be set to nan. Details: \n",
      "Traceback (most recent call last):\n",
      "  File \"/home/godo/.local/lib/python3.10/site-packages/sklearn/model_selection/_validation.py\", line 982, in _score\n",
      "    scores = scorer(estimator, X_test, y_test, **score_params)\n",
      "  File \"/home/godo/.local/lib/python3.10/site-packages/sklearn/metrics/_scorer.py\", line 253, in __call__\n",
      "    return self._score(partial(_cached_call, None), estimator, X, y_true, **_kwargs)\n",
      "  File \"/home/godo/.local/lib/python3.10/site-packages/sklearn/metrics/_scorer.py\", line 345, in _score\n",
      "    y_pred = method_caller(\n",
      "  File \"/home/godo/.local/lib/python3.10/site-packages/sklearn/metrics/_scorer.py\", line 87, in _cached_call\n",
      "    result, _ = _get_response_values(\n",
      "  File \"/home/godo/.local/lib/python3.10/site-packages/sklearn/utils/_response.py\", line 213, in _get_response_values\n",
      "    y_pred = _process_predict_proba(\n",
      "  File \"/home/godo/.local/lib/python3.10/site-packages/sklearn/utils/_response.py\", line 50, in _process_predict_proba\n",
      "    raise ValueError(\n",
      "ValueError: Got predict_proba of shape (1, 1), but need classifier with two classes.\n",
      "\n",
      "  warnings.warn(\n",
      "/home/godo/.local/lib/python3.10/site-packages/sklearn/model_selection/_validation.py:993: UserWarning: Scoring failed. The score on this train-test partition for these parameters will be set to nan. Details: \n",
      "Traceback (most recent call last):\n",
      "  File \"/home/godo/.local/lib/python3.10/site-packages/sklearn/model_selection/_validation.py\", line 982, in _score\n",
      "    scores = scorer(estimator, X_test, y_test, **score_params)\n",
      "  File \"/home/godo/.local/lib/python3.10/site-packages/sklearn/metrics/_scorer.py\", line 253, in __call__\n",
      "    return self._score(partial(_cached_call, None), estimator, X, y_true, **_kwargs)\n",
      "  File \"/home/godo/.local/lib/python3.10/site-packages/sklearn/metrics/_scorer.py\", line 345, in _score\n",
      "    y_pred = method_caller(\n",
      "  File \"/home/godo/.local/lib/python3.10/site-packages/sklearn/metrics/_scorer.py\", line 87, in _cached_call\n",
      "    result, _ = _get_response_values(\n",
      "  File \"/home/godo/.local/lib/python3.10/site-packages/sklearn/utils/_response.py\", line 213, in _get_response_values\n",
      "    y_pred = _process_predict_proba(\n",
      "  File \"/home/godo/.local/lib/python3.10/site-packages/sklearn/utils/_response.py\", line 50, in _process_predict_proba\n",
      "    raise ValueError(\n",
      "ValueError: Got predict_proba of shape (80, 1), but need classifier with two classes.\n",
      "\n",
      "  warnings.warn(\n",
      "/home/godo/.local/lib/python3.10/site-packages/sklearn/model_selection/_validation.py:993: UserWarning: Scoring failed. The score on this train-test partition for these parameters will be set to nan. Details: \n",
      "Traceback (most recent call last):\n",
      "  File \"/home/godo/.local/lib/python3.10/site-packages/sklearn/model_selection/_validation.py\", line 982, in _score\n",
      "    scores = scorer(estimator, X_test, y_test, **score_params)\n",
      "  File \"/home/godo/.local/lib/python3.10/site-packages/sklearn/metrics/_scorer.py\", line 253, in __call__\n",
      "    return self._score(partial(_cached_call, None), estimator, X, y_true, **_kwargs)\n",
      "  File \"/home/godo/.local/lib/python3.10/site-packages/sklearn/metrics/_scorer.py\", line 345, in _score\n",
      "    y_pred = method_caller(\n",
      "  File \"/home/godo/.local/lib/python3.10/site-packages/sklearn/metrics/_scorer.py\", line 87, in _cached_call\n",
      "    result, _ = _get_response_values(\n",
      "  File \"/home/godo/.local/lib/python3.10/site-packages/sklearn/utils/_response.py\", line 213, in _get_response_values\n",
      "    y_pred = _process_predict_proba(\n",
      "  File \"/home/godo/.local/lib/python3.10/site-packages/sklearn/utils/_response.py\", line 50, in _process_predict_proba\n",
      "    raise ValueError(\n",
      "ValueError: Got predict_proba of shape (1, 1), but need classifier with two classes.\n",
      "\n",
      "  warnings.warn(\n",
      "/home/godo/.local/lib/python3.10/site-packages/sklearn/model_selection/_validation.py:993: UserWarning: Scoring failed. The score on this train-test partition for these parameters will be set to nan. Details: \n",
      "Traceback (most recent call last):\n",
      "  File \"/home/godo/.local/lib/python3.10/site-packages/sklearn/model_selection/_validation.py\", line 982, in _score\n",
      "    scores = scorer(estimator, X_test, y_test, **score_params)\n",
      "  File \"/home/godo/.local/lib/python3.10/site-packages/sklearn/metrics/_scorer.py\", line 253, in __call__\n",
      "    return self._score(partial(_cached_call, None), estimator, X, y_true, **_kwargs)\n",
      "  File \"/home/godo/.local/lib/python3.10/site-packages/sklearn/metrics/_scorer.py\", line 345, in _score\n",
      "    y_pred = method_caller(\n",
      "  File \"/home/godo/.local/lib/python3.10/site-packages/sklearn/metrics/_scorer.py\", line 87, in _cached_call\n",
      "    result, _ = _get_response_values(\n",
      "  File \"/home/godo/.local/lib/python3.10/site-packages/sklearn/utils/_response.py\", line 213, in _get_response_values\n",
      "    y_pred = _process_predict_proba(\n",
      "  File \"/home/godo/.local/lib/python3.10/site-packages/sklearn/utils/_response.py\", line 50, in _process_predict_proba\n",
      "    raise ValueError(\n",
      "ValueError: Got predict_proba of shape (80, 1), but need classifier with two classes.\n",
      "\n",
      "  warnings.warn(\n",
      "/home/godo/.local/lib/python3.10/site-packages/sklearn/model_selection/_validation.py:993: UserWarning: Scoring failed. The score on this train-test partition for these parameters will be set to nan. Details: \n",
      "Traceback (most recent call last):\n",
      "  File \"/home/godo/.local/lib/python3.10/site-packages/sklearn/model_selection/_validation.py\", line 982, in _score\n",
      "    scores = scorer(estimator, X_test, y_test, **score_params)\n",
      "  File \"/home/godo/.local/lib/python3.10/site-packages/sklearn/metrics/_scorer.py\", line 253, in __call__\n",
      "    return self._score(partial(_cached_call, None), estimator, X, y_true, **_kwargs)\n",
      "  File \"/home/godo/.local/lib/python3.10/site-packages/sklearn/metrics/_scorer.py\", line 345, in _score\n",
      "    y_pred = method_caller(\n",
      "  File \"/home/godo/.local/lib/python3.10/site-packages/sklearn/metrics/_scorer.py\", line 87, in _cached_call\n",
      "    result, _ = _get_response_values(\n",
      "  File \"/home/godo/.local/lib/python3.10/site-packages/sklearn/utils/_response.py\", line 213, in _get_response_values\n",
      "    y_pred = _process_predict_proba(\n",
      "  File \"/home/godo/.local/lib/python3.10/site-packages/sklearn/utils/_response.py\", line 50, in _process_predict_proba\n",
      "    raise ValueError(\n",
      "ValueError: Got predict_proba of shape (1, 1), but need classifier with two classes.\n",
      "\n",
      "  warnings.warn(\n"
     ]
    },
    {
     "data": {
      "text/plain": [
       "Text(0.5, 1.0, 'Arbol de decision')"
      ]
     },
     "execution_count": 39,
     "metadata": {},
     "output_type": "execute_result"
    },
    {
     "data": {
      "image/png": "[encoded data removed]",
      "text/plain": [
       "<Figure size 640x480 with 1 Axes>"
      ]
     },
     "metadata": {},
     "output_type": "display_data"
    }
   ],
   "source": [
    "LearningCurveDisplay.from_estimator(mejores[0], X_train, y_train, std_display_style=None, train_sizes = np.linspace(0.00001, 1, 20), scoring='roc_auc', cv=train_test_indices)\n",
    "plt.title('Arbol de decision')"
   ]
  },
  {
   "cell_type": "code",
   "execution_count": 40,
   "metadata": {},
   "outputs": [
    {
     "name": "stderr",
     "output_type": "stream",
     "text": [
      "/home/godo/.local/lib/python3.10/site-packages/sklearn/model_selection/_validation.py:547: FitFailedWarning: \n",
      "5 fits failed out of a total of 100.\n",
      "The score on these train-test partitions for these parameters will be set to nan.\n",
      "If these failures are not expected, you can try to debug them by setting error_score='raise'.\n",
      "\n",
      "Below are more details about the failures:\n",
      "--------------------------------------------------------------------------------\n",
      "5 fits failed with the following error:\n",
      "Traceback (most recent call last):\n",
      "  File \"/home/godo/.local/lib/python3.10/site-packages/sklearn/model_selection/_validation.py\", line 895, in _fit_and_score\n",
      "    estimator.fit(X_train, y_train, **fit_params)\n",
      "  File \"/home/godo/.local/lib/python3.10/site-packages/sklearn/base.py\", line 1474, in wrapper\n",
      "    return fit_method(estimator, *args, **kwargs)\n",
      "  File \"/home/godo/.local/lib/python3.10/site-packages/sklearn/svm/_base.py\", line 199, in fit\n",
      "    y = self._validate_targets(y)\n",
      "  File \"/home/godo/.local/lib/python3.10/site-packages/sklearn/svm/_base.py\", line 743, in _validate_targets\n",
      "    raise ValueError(\n",
      "ValueError: The number of classes has to be greater than one; got 1 class\n",
      "\n",
      "  warnings.warn(some_fits_failed_message, FitFailedWarning)\n"
     ]
    },
    {
     "data": {
      "text/plain": [
       "Text(0.5, 1.0, 'SVM')"
      ]
     },
     "execution_count": 40,
     "metadata": {},
     "output_type": "execute_result"
    },
    {
     "data": {
      "image/png": "[encoded data removed]",
      "text/plain": [
       "<Figure size 640x480 with 1 Axes>"
      ]
     },
     "metadata": {},
     "output_type": "display_data"
    }
   ],
   "source": [
    "LearningCurveDisplay.from_estimator(mejores[2], X_train, y_train, std_display_style=None, train_sizes = np.linspace(0.00001, 1, 20), scoring='roc_auc', cv=train_test_indices)\n",
    "plt.title('SVM')"
   ]
  },
  {
   "cell_type": "code",
   "execution_count": 42,
   "metadata": {},
   "outputs": [
    {
     "name": "stderr",
     "output_type": "stream",
     "text": [
      "/home/godo/.local/lib/python3.10/site-packages/sklearn/model_selection/_validation.py:547: FitFailedWarning: \n",
      "5 fits failed out of a total of 100.\n",
      "The score on these train-test partitions for these parameters will be set to nan.\n",
      "If these failures are not expected, you can try to debug them by setting error_score='raise'.\n",
      "\n",
      "Below are more details about the failures:\n",
      "--------------------------------------------------------------------------------\n",
      "5 fits failed with the following error:\n",
      "Traceback (most recent call last):\n",
      "  File \"/home/godo/.local/lib/python3.10/site-packages/sklearn/model_selection/_validation.py\", line 895, in _fit_and_score\n",
      "    estimator.fit(X_train, y_train, **fit_params)\n",
      "  File \"/home/godo/.local/lib/python3.10/site-packages/sklearn/base.py\", line 1474, in wrapper\n",
      "    return fit_method(estimator, *args, **kwargs)\n",
      "  File \"/home/godo/.local/lib/python3.10/site-packages/sklearn/discriminant_analysis.py\", line 581, in fit\n",
      "    X, y = self._validate_data(\n",
      "  File \"/home/godo/.local/lib/python3.10/site-packages/sklearn/base.py\", line 650, in _validate_data\n",
      "    X, y = check_X_y(X, y, **check_params)\n",
      "  File \"/home/godo/.local/lib/python3.10/site-packages/sklearn/utils/validation.py\", line 1263, in check_X_y\n",
      "    X = check_array(\n",
      "  File \"/home/godo/.local/lib/python3.10/site-packages/sklearn/utils/validation.py\", line 1072, in check_array\n",
      "    raise ValueError(\n",
      "ValueError: Found array with 1 sample(s) (shape=(1, 200)) while a minimum of 2 is required by LinearDiscriminantAnalysis.\n",
      "\n",
      "  warnings.warn(some_fits_failed_message, FitFailedWarning)\n"
     ]
    },
    {
     "data": {
      "text/plain": [
       "Text(0.5, 1.0, 'LDA')"
      ]
     },
     "execution_count": 42,
     "metadata": {},
     "output_type": "execute_result"
    },
    {
     "data": {
      "image/png": "[encoded data removed]",
      "text/plain": [
       "<Figure size 640x480 with 1 Axes>"
      ]
     },
     "metadata": {},
     "output_type": "display_data"
    }
   ],
   "source": [
    "LearningCurveDisplay.from_estimator(mejores[3], X_train, y_train, std_display_style=None, train_sizes = np.linspace(0.00001, 1, 20), scoring='roc_auc', cv=train_test_indices, cv=train_test_indices)\n",
    "plt.title('LDA')"
   ]
  },
  {
   "cell_type": "markdown",
   "metadata": {},
   "source": [
    "## Random forest"
   ]
  },
  {
   "cell_type": "code",
   "execution_count": 31,
   "metadata": {},
   "outputs": [],
   "source": [
    "from sklearn import ensemble"
   ]
  },
  {
   "cell_type": "code",
   "execution_count": 56,
   "metadata": {},
   "outputs": [],
   "source": [
    "random_forest = ensemble.RandomForestClassifier(n_estimators=200)"
   ]
  },
  {
   "cell_type": "markdown",
   "metadata": {},
   "source": [
    "(!) usar randomizedsearchcv para los otros parametros"
   ]
  },
  {
   "cell_type": "code",
   "execution_count": 59,
   "metadata": {},
   "outputs": [
    {
     "data": {
      "text/plain": [
       "Text(0.5, 1.0, 'Random forest')"
      ]
     },
     "execution_count": 59,
     "metadata": {},
     "output_type": "execute_result"
    },
    {
     "data": {
      "image/png": "[encoded data removed]",
      "text/plain": [
       "<Figure size 640x480 with 1 Axes>"
      ]
     },
     "metadata": {},
     "output_type": "display_data"
    }
   ],
   "source": [
    "ValidationCurveDisplay.from_estimator(random_forest, X_train, y_train, param_name='max_features', param_range=[i for i in range(10, 30, 3)], std_display_style=None, scoring='roc_auc')\n",
    "plt.title('Random forest')"
   ]
  },
  {
   "cell_type": "code",
   "execution_count": 61,
   "metadata": {},
   "outputs": [
    {
     "data": {
      "text/plain": [
       "Text(0.5, 1.0, 'Arbol de decision')"
      ]
     },
     "execution_count": 61,
     "metadata": {},
     "output_type": "execute_result"
    },
    {
     "data": {
      "image/png": "[encoded data removed]",
      "text/plain": [
       "<Figure size 640x480 with 1 Axes>"
      ]
     },
     "metadata": {},
     "output_type": "display_data"
    }
   ],
   "source": [
    "LearningCurveDisplay.from_estimator(random_forest, X_train, y_train, std_display_style=None, train_sizes = np.linspace(0.00001, 1, 20), cv=train_test_indices)\n",
    "plt.title('Random forest')"
   ]
  }
 ],
 "metadata": {
  "kernelspec": {
   "display_name": "Python 3",
   "language": "python",
   "name": "python3"
  },
  "language_info": {
   "codemirror_mode": {
    "name": "ipython",
    "version": 3
   },
   "file_extension": ".py",
   "mimetype": "text/x-python",
   "name": "python",
   "nbconvert_exporter": "python",
   "pygments_lexer": "ipython3",
   "version": "3.10.12"
  }
 },
 "nbformat": 4,
 "nbformat_minor": 2
}
